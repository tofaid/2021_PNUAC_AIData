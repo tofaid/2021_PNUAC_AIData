{
  "nbformat": 4,
  "nbformat_minor": 0,
  "metadata": {
    "colab": {
      "name": "코랩연습.ipynb",
      "provenance": [],
      "mount_file_id": "1TTPgYMvP8QHx3UaPKG5G4BL3J7KGivDD",
      "authorship_tag": "ABX9TyNTOH1LVrVIGRZt5/b6sTS0",
      "include_colab_link": true
    },
    "kernelspec": {
      "name": "python3",
      "display_name": "Python 3"
    },
    "language_info": {
      "name": "python"
    }
  },
  "cells": [
    {
      "cell_type": "markdown",
      "metadata": {
        "id": "view-in-github",
        "colab_type": "text"
      },
      "source": [
        "<a href=\"https://colab.research.google.com/github/tofaid/2021_PNUAC_AIData/blob/main/%EC%BD%94%EB%9E%A9%EC%97%B0%EC%8A%B5.ipynb\" target=\"_parent\"><img src=\"https://colab.research.google.com/assets/colab-badge.svg\" alt=\"Open In Colab\"/></a>"
      ]
    }
  ]
}